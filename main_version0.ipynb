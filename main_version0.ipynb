{
 "cells": [
  {
   "cell_type": "code",
   "execution_count": 57,
   "id": "aec96463-65fe-4a53-91cb-7a765ef835ca",
   "metadata": {},
   "outputs": [],
   "source": [
    "!pip install llama-index -q"
   ]
  },
  {
   "cell_type": "code",
   "execution_count": 58,
   "id": "71c88bf4-1d7b-4455-8429-cf9a2378a539",
   "metadata": {},
   "outputs": [],
   "source": [
    "#things to run on command line\n",
    "#curl -fsSL https://ollama.com/install.sh | sh\n",
    "#ollama serve\n",
    "#ollama pull mistral"
   ]
  },
  {
   "cell_type": "code",
   "execution_count": 59,
   "id": "1f2fe5ec-351d-4051-aabf-e8e0ecccc11d",
   "metadata": {},
   "outputs": [],
   "source": [
    "!pip install llama-index-llms-ollama -q"
   ]
  },
  {
   "cell_type": "code",
   "execution_count": 60,
   "id": "e6e3c269-0a7b-46aa-8346-82a816e646ea",
   "metadata": {},
   "outputs": [],
   "source": [
    "!pip install pycoingecko -q"
   ]
  },
  {
   "cell_type": "code",
   "execution_count": 61,
   "id": "0b0af39b-c928-4c37-8f32-247c22e375f7",
   "metadata": {},
   "outputs": [],
   "source": [
    "!pip install duckduckgo_search -q"
   ]
  },
  {
   "cell_type": "code",
   "execution_count": 90,
   "id": "f72e28a8-1c85-41fa-b91f-f9ed4b431070",
   "metadata": {},
   "outputs": [],
   "source": [
    "from llama_index.llms.ollama import Ollama\n",
    "\n",
    "llm = Ollama(model = \"phi3\", temperature = 0.3, request_timeout = 600, system_prompt = \"You are a highly responsible AI assistant specializing in cyber technology. Provide accurate, detailed, and concise responses. If confident, answer directly; if unsure, use available tools like the search_tool for real-time info, fetch_price_tool for real time cryptocurrency prices, or relevant FunctionTool for specialized queries. Prioritize accuracy, clearly indicate when using external sources, and acknowledge limitations. Maintain clarity, professionalism, and ensure explanations are easy to understand without unnecessary jargon. Avoid printing any irrelevant or incorrect information.\" )"
   ]
  },
  {
   "cell_type": "code",
   "execution_count": 91,
   "id": "8d124b84-72d9-4ec9-93c0-bdeced2429bb",
   "metadata": {},
   "outputs": [],
   "source": [
    "# from llama_index.core.tools import FunctionTool\n",
    "# from pycoingecko import CoinGeckoAPI\n",
    "# from duckduckgo_search import DDGS\n",
    "# from typing import Optional, List, Dict\n",
    "\n",
    "# def multiply(a: int, b: int) -> int:\n",
    "#     \"\"\"Multiple two integers and returns the result integer\"\"\"\n",
    "#     return a * b\n",
    "\n",
    "\n",
    "# multiply_tool = FunctionTool.from_defaults(fn=multiply)\n",
    "\n",
    "# def add(a: int, b: int) -> int:\n",
    "#     \"\"\"Add two integers and returns the result integer\"\"\"\n",
    "#     return a + b\n",
    "\n",
    "\n",
    "# add_tool = FunctionTool.from_defaults(fn=add)\n",
    "\n",
    "# cg = CoinGeckoAPI()\n",
    "\n",
    "# def fetch_price(crypto_id: str, vs_currency: str = 'usd') -> Optional[float]:\n",
    "#     \"\"\"\n",
    "#     This function can be used to fetch the current price of a specified cryptocurrency.\n",
    "    \n",
    "#     :param crypto_id: The ID of the cryptocurrency. \n",
    "#                       Spaces are replaced with hyphens (e.g., 'shiba inu' -> 'shiba-inu').\n",
    "#     :param vs_currency: The fiat currency to compare against (default is 'usd').\n",
    "#     :return: The current price of the cryptocurrency in the specified fiat currency,\n",
    "#              or None if the cryptocurrency is not found.\n",
    "#     \"\"\"\n",
    "#     crypto_id = crypto_id.replace(\" \", \"-\").lower()\n",
    "#     price_data = cg.get_price(ids=crypto_id, vs_currencies=vs_currency)\n",
    "#     return price_data.get(crypto_id, {}).get(vs_currency)\n",
    "\n",
    "# fetch_price_tool = FunctionTool.from_defaults(fn=fetch_price)\n",
    "\n",
    "# def duckduckgo_full_search(\n",
    "#     query: str,\n",
    "#     region: Optional[str] = \"wt-wt\",\n",
    "#     max_results: Optional[int] = 3,\n",
    "# ) -> List[Dict]:\n",
    "#     \"\"\"\n",
    "#     If you don't know anything about what is being asked in the question or you are not sure of,\n",
    "#     Make a query to DuckDuckGo search to receive full search results.\n",
    "\n",
    "#     Args:\n",
    "#         query (str): The query to be passed to DuckDuckGo.\n",
    "#         region (Optional[str]): The region to be used for the search in [country-language] convention, ex us-en, uk-en, ru-ru, etc.\n",
    "#         max_results (Optional[int]): The maximum number of results to be returned.\n",
    "\n",
    "#     Returns:\n",
    "#         List[Dict]: A list of dictionaries containing the search results.\n",
    "#     \"\"\"\n",
    "#     params = {\n",
    "#         \"keywords\": query,\n",
    "#         \"region\": region,\n",
    "#         \"max_results\": max_results,\n",
    "#     }\n",
    "\n",
    "#     with DDGS() as ddg:\n",
    "#         return list(ddg.text(**params))\n",
    "\n",
    "# search_tool = FunctionTool.from_defaults(fn=duckduckgo_full_search)"
   ]
  },
  {
   "cell_type": "code",
   "execution_count": 104,
   "id": "499c750e",
   "metadata": {},
   "outputs": [],
   "source": [
    "from llama_index.core.tools import FunctionTool\n",
    "from pycoingecko import CoinGeckoAPI\n",
    "from duckduckgo_search import DDGS\n",
    "from typing import Optional, List, Dict\n",
    "import requests\n",
    "\n",
    "def multiply(a: int, b: int) -> int:\n",
    "    \"\"\"Multiple two integers and returns the result integer\"\"\"\n",
    "    return a * b\n",
    "\n",
    "\n",
    "multiply_tool = FunctionTool.from_defaults(fn=multiply)\n",
    "\n",
    "def add(a: int, b: int) -> int:\n",
    "    \"\"\"Add two integers and returns the result integer\"\"\"\n",
    "    return a + b\n",
    "\n",
    "\n",
    "add_tool = FunctionTool.from_defaults(fn=add)\n",
    "\n",
    "\n",
    "def fetch_price(crypto_id: str, vs_currency: str = 'usd') -> Optional[float]:\n",
    "    \"\"\"\n",
    "    Fetch the current price of a specified cryptocurrency using CoinGecko API.\n",
    "    \n",
    "    :param crypto_id: The name of the cryptocurrency. \n",
    "                      Spaces are replaced with hyphens (e.g., 'shiba inu' -> 'shiba-inu').\n",
    "    :param vs_currency: The fiat currency to compare against (default is 'usd').\n",
    "    :return: The current price of the cryptocurrency in the specified fiat currency,\n",
    "             or None if the cryptocurrency is not found.\n",
    "    \"\"\"\n",
    "    crypto_id = crypto_id.replace(\" \", \"-\").lower()\n",
    "    url = \"https://api.coingecko.com/api/v3/simple/price\"\n",
    "    headers = {\"accept\": \"application/json\"}\n",
    "    params = {\n",
    "        'ids': crypto_id,\n",
    "        'vs_currencies': vs_currency\n",
    "    }\n",
    "    \n",
    "    response = requests.get(url, headers=headers, params=params)\n",
    "    \n",
    "    if response.status_code == 200:\n",
    "        price_data = response.json()\n",
    "        return price_data.get(crypto_id, {}).get(vs_currency)\n",
    "    else:\n",
    "        return None\n",
    "\n",
    "fetch_price_tool = FunctionTool.from_defaults(fn=fetch_price)\n",
    "\n",
    "\n",
    "\n",
    "def duckduckgo_full_search(\n",
    "    query: str,\n",
    "    region: Optional[str] = \"wt-wt\",\n",
    "    max_results: Optional[int] = 3,\n",
    ") -> List[Dict]:\n",
    "    \"\"\"\n",
    "    If you don't know anything about what is being asked in the question or you are not sure of,\n",
    "    Make a query to DuckDuckGo search to receive full search results.\n",
    "\n",
    "    Args:\n",
    "        query (str): The query to be passed to DuckDuckGo.\n",
    "        region (Optional[str]): The region to be used for the search in [country-language] convention, ex us-en, uk-en, ru-ru, etc.\n",
    "        max_results (Optional[int]): The maximum number of results to be returned.\n",
    "\n",
    "    Returns:\n",
    "        List[Dict]: A list of dictionaries containing the search results.\n",
    "    \"\"\"\n",
    "    params = {\n",
    "        \"keywords\": query,\n",
    "        \"region\": region,\n",
    "        \"max_results\": max_results,\n",
    "    }\n",
    "\n",
    "    with DDGS() as ddg:\n",
    "        return list(ddg.text(**params))\n",
    "\n",
    "search_tool = FunctionTool.from_defaults(fn=duckduckgo_full_search)"
   ]
  },
  {
   "cell_type": "code",
   "execution_count": 105,
   "id": "883df835-8c47-4ed1-893d-74dba4cada4c",
   "metadata": {},
   "outputs": [
    {
     "data": {
      "text/plain": [
       "<llama_index.core.agent.react.base.ReActAgent at 0x7fe9f090e1a0>"
      ]
     },
     "execution_count": 105,
     "metadata": {},
     "output_type": "execute_result"
    }
   ],
   "source": [
    "from llama_index.core.agent import ReActAgent, FunctionCallingAgentWorker\n",
    "\n",
    "react_agent = ReActAgent.from_tools(tools=[multiply_tool, add_tool, fetch_price_tool, search_tool], llm=llm, verbose=True)\n",
    "\n",
    "react_agent"
   ]
  },
  {
   "cell_type": "code",
   "execution_count": 106,
   "id": "95a20c38-5530-40d5-b97b-9620ea7e74b5",
   "metadata": {
    "scrolled": true
   },
   "outputs": [
    {
     "name": "stdout",
     "output_type": "stream",
     "text": [
      "\u001b[1;3;34mObservation: Error: Could not parse output. Please follow the thought-action-input format. Try again.\n",
      "\u001b[0m\u001b[1;3;34mObservation: Error: Could not parse output. Please follow the thought-action-input format. Try again.\n",
      "\u001b[0m\u001b[1;3;38;5;200mThought: The user is asking for recent news about Apple Inc., which likely involves current events or developments within the company, its products, services, or market performance that have been reported in reliable sources like major newspapers and financial websites as of today's date (2024). To provide accurate information without using tools directly would require access to real-time data. However, I can simulate a response based on general knowledge up until my last update in 2023 or use the available tool 'duckduckgo_full_search'.\n",
      "Action: duckduckgo_full_search\n",
      "Action Input: {'query': 'latest news about Apple company'}\n",
      "\u001b[0m\u001b[1;3;34mObservation: [{'title': 'Company News - Newsroom - Apple', 'href': 'https://www.apple.com/newsroom/topics/company-news/', 'body': 'Apple, Google partner on an industry specification to address unwanted tracking. May 2, 2023. View Archive. . Newsroom. Company News. Find news about Apple Company News in the Apple Newsroom archive. Access press releases, updates, photos, videos and more.'}, {'title': 'Newsroom - Apple', 'href': 'https://www.apple.com/newsroom/', 'body': 'Apple Newsroom is the source for news about Apple. Read press releases, get updates, watch video and download images. ... With the introduction of new Apple technologies and APIs announced at WWDC24, students will also have even more access to tools that empower them to build exceptional projects and apps. This includes Xcode 16, which sets a ...'}, {'title': 'Everything Apple announced at its big AI event | CNN Business', 'href': 'https://www.cnn.com/2024/06/10/tech/apple-ai-next-big-thing/index.html', 'body': 'Cupertino, California CNN —. Apple just kicked off a brand new era for the company with the introduction of its first generative AI features for the iPhone. At its annual Worldwide Developers ...'}]\n",
      "\u001b[0m\u001b[1;3;38;5;200mThought: I have found relevant news articles about recent developments at Apple Inc., including their partnership on industry specifications, updates from WWDC24 regarding new technologies and APIs that empower students to build projects with tools like Xcode 16, as well as the introduction of generative AI features for iPhone users.\n",
      "Answer: Recently, there has been significant news about Apple Inc., including their partnership on industry specifications aimed at addressing unwanted tracking issues alongside Google and Microsoft. At WWDC24 (Worldwide Developers Conference), they announced new technologies like Xcode 16 that provide students with tools to create exceptional projects and apps, highlighting the company's commitment to education in technology development. Additionally, Apple has introduced its first generative AI features for iPhone users at their annual event, marking a significant step forward in integrating artificial intelligence into everyday devices. These developments reflect ongoing innovation within the tech giant and signal potential shifts in how consumers interact with personal technology moving forward.\n",
      "\u001b[0mBot: Recently, there has been significant news about Apple Inc., including their partnership on industry specifications aimed at addressing unwanted tracking issues alongside Google and Microsoft. At WWDC24 (Worldwide Developers Conference), they announced new technologies like Xcode 16 that provide students with tools to create exceptional projects and apps, highlighting the company's commitment to education in technology development. Additionally, Apple has introduced its first generative AI features for iPhone users at their annual event, marking a significant step forward in integrating artificial intelligence into everyday devices. These developments reflect ongoing innovation within the tech giant and signal potential shifts in how consumers interact with personal technology moving forward.\n",
      "Goodbye!\n"
     ]
    }
   ],
   "source": [
    "while True:\n",
    "    user_input = input(\"You: \")  \n",
    "    if user_input.lower() in ['exit', 'quit', 'stop']:\n",
    "        print(\"Goodbye!\")\n",
    "        break\n",
    "    \n",
    "    response = react_agent.chat(user_input) \n",
    "    print(\"Bot:\", response)"
   ]
  },
  {
   "cell_type": "code",
   "execution_count": 107,
   "id": "5ce721d6-3ef8-4629-89f1-1f041e05cbaf",
   "metadata": {},
   "outputs": [],
   "source": [
    "# https://github.com/run-llama/llama_index/discussions/8363#discussioncomment-7366542"
   ]
  }
 ],
 "metadata": {
  "kernelspec": {
   "display_name": "Python 3",
   "language": "python",
   "name": "python3"
  },
  "language_info": {
   "codemirror_mode": {
    "name": "ipython",
    "version": 3
   },
   "file_extension": ".py",
   "mimetype": "text/x-python",
   "name": "python",
   "nbconvert_exporter": "python",
   "pygments_lexer": "ipython3",
   "version": "3.10.10"
  }
 },
 "nbformat": 4,
 "nbformat_minor": 5
}
